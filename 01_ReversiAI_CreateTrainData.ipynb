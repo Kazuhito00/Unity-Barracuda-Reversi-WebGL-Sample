{
  "nbformat": 4,
  "nbformat_minor": 0,
  "metadata": {
    "colab": {
      "name": "01_ReversiAI_CreateTrainData.ipynb",
      "provenance": [],
      "collapsed_sections": [],
      "toc_visible": true
    },
    "kernelspec": {
      "display_name": "Python 3",
      "name": "python3"
    }
  },
  "cells": [
    {
      "cell_type": "markdown",
      "metadata": {
        "id": "Vr62yeVOOgQs"
      },
      "source": [
        "# WTHOR棋譜データ ダウンロード"
      ]
    },
    {
      "cell_type": "code",
      "metadata": {
        "id": "wW_yWlOzg6hU"
      },
      "source": [
        "wthor_url = [\r\n",
        "    'https://www.ffothello.org/wthor/base_zip/WTH_2020.ZIP',\r\n",
        "    'https://www.ffothello.org/wthor/base_zip/WTH_2019.ZIP',\r\n",
        "    'https://www.ffothello.org/wthor/base_zip/WTH_2018.ZIP',\r\n",
        "    'https://www.ffothello.org/wthor/base_zip/WTH_2017.ZIP',\r\n",
        "    'https://www.ffothello.org/wthor/base_zip/WTH_2016.ZIP',\r\n",
        "    'https://www.ffothello.org/wthor/base_zip/WTH_2015.ZIP',\r\n",
        "    'https://www.ffothello.org/wthor/base_zip/WTH_2014.ZIP',\r\n",
        "    'https://www.ffothello.org/wthor/base_zip/WTH_2013.ZIP',\r\n",
        "    'https://www.ffothello.org/wthor/base_zip/WTH_2012.ZIP',\r\n",
        "    'https://www.ffothello.org/wthor/base_zip/WTH_2011.ZIP',\r\n",
        "    'https://www.ffothello.org/wthor/base_zip/WTH_2010.ZIP',\r\n",
        "    'https://www.ffothello.org/wthor/base_zip/WTH_2009.ZIP',\r\n",
        "    'https://www.ffothello.org/wthor/base_zip/WTH_2008.ZIP',\r\n",
        "    'https://www.ffothello.org/wthor/base_zip/WTH_2007.ZIP',\r\n",
        "    'https://www.ffothello.org/wthor/base_zip/WTH_2006.ZIP',\r\n",
        "    # 'https://www.ffothello.org/wthor/base_zip/WTH_2005.ZIP',\r\n",
        "    # 'https://www.ffothello.org/wthor/base_zip/WTH_2004.ZIP',\r\n",
        "    # 'https://www.ffothello.org/wthor/base_zip/WTH_2003.ZIP',\r\n",
        "    # 'https://www.ffothello.org/wthor/base_zip/WTH_2002.ZIP',\r\n",
        "    # 'https://www.ffothello.org/wthor/base_zip/WTH_2001.ZIP',\r\n",
        "    # 'https://www.ffothello.org/wthor/base_zip/WTH_2000.ZIP',\r\n",
        "    # 'https://www.ffothello.org/wthor/base_zip/WTH_1999.ZIP',\r\n",
        "    # 'https://www.ffothello.org/wthor/base_zip/WTH_1998.ZIP',\r\n",
        "    # 'https://www.ffothello.org/wthor/base_zip/WTH_1997.ZIP',\r\n",
        "    # 'https://www.ffothello.org/wthor/base_zip/WTH_1996.ZIP',\r\n",
        "    # 'https://www.ffothello.org/wthor/base_zip/WTH_1995.ZIP',\r\n",
        "    # 'https://www.ffothello.org/wthor/base_zip/WTH_1994.ZIP',\r\n",
        "    # 'https://www.ffothello.org/wthor/base_zip/WTH_1993.ZIP',\r\n",
        "    # 'https://www.ffothello.org/wthor/base_zip/WTH_1992.ZIP',\r\n",
        "    # 'https://www.ffothello.org/wthor/base_zip/WTH_1991.ZIP',\r\n",
        "    # 'https://www.ffothello.org/wthor/base_zip/WTH_1990.ZIP',\r\n",
        "    # 'https://www.ffothello.org/wthor/base_zip/WTH_7789.ZIP',\r\n",
        "]"
      ],
      "execution_count": 1,
      "outputs": []
    },
    {
      "cell_type": "code",
      "metadata": {
        "id": "8ExYbxh6g2M4"
      },
      "source": [
        "for url in wthor_url:\r\n",
        "    !wget $url"
      ],
      "execution_count": null,
      "outputs": []
    },
    {
      "cell_type": "code",
      "metadata": {
        "id": "n66eUTIAg4Qj"
      },
      "source": [
        "for url in wthor_url:\r\n",
        "    zip_name = url[url.rfind('/') + 1:]\r\n",
        "\r\n",
        "    !unzip $zip_name -d WTHOR\r\n",
        "    !rm $zip_name"
      ],
      "execution_count": null,
      "outputs": []
    },
    {
      "cell_type": "markdown",
      "metadata": {
        "id": "o2wFz2-8PAR1"
      },
      "source": [
        "# 棋譜データ解析"
      ]
    },
    {
      "cell_type": "code",
      "metadata": {
        "id": "YVkg9JR_PfBy"
      },
      "source": [
        "# バイナリ解析関数\r\n",
        "\r\n",
        "import struct\r\n",
        "\r\n",
        "def read_wtb_header(wtb):\r\n",
        "    # ファイルを作成した年の上2桁\r\n",
        "    read_data = wtb.read(1)\r\n",
        "    year_first_two_digits = struct.unpack('b', read_data)\r\n",
        "    # ファイルを作成した年の下2桁\r\n",
        "    read_data = wtb.read(1)\r\n",
        "    year_last_two_digits = struct.unpack('b', read_data)\r\n",
        "    # ファイルを作成した月\r\n",
        "    read_data = wtb.read(1)\r\n",
        "    month = struct.unpack('b', read_data)\r\n",
        "    # ファイルを作成した日\r\n",
        "    read_data = wtb.read(1)\r\n",
        "    day = struct.unpack('b', read_data)\r\n",
        "    # 試合数(.wtbのみ)\r\n",
        "    read_data = wtb.read(4)\r\n",
        "    number_games = struct.unpack('I', read_data)\r\n",
        "    # レコード数(.jou, .trnのみ)\r\n",
        "    read_data = wtb.read(2)\r\n",
        "    number_record = struct.unpack('H', read_data)\r\n",
        "    # 試合の行われた年(.wtbのみ)\r\n",
        "    read_data = wtb.read(2)\r\n",
        "    match_year = struct.unpack('H', read_data)\r\n",
        "    # 盤のサイズ(.wtbのみ)\r\n",
        "    read_data = wtb.read(1)\r\n",
        "    board_size = struct.unpack('b', read_data)\r\n",
        "    # 試合タイプ(.wtbのみ)\r\n",
        "    read_data = wtb.read(1)\r\n",
        "    match_type = struct.unpack('b', read_data)\r\n",
        "    # 深さ(.wtbのみ)\r\n",
        "    read_data = wtb.read(1)\r\n",
        "    depth = struct.unpack('b', read_data)\r\n",
        "    # 予約領域\r\n",
        "    read_data = wtb.read(1)\r\n",
        "    reserve = struct.unpack('b', read_data)\r\n",
        "\r\n",
        "    file_date = str(year_first_two_digits[0]) + str(year_last_two_digits[0]) + \"/\" + str(month[0]) + \"/\" + str(day[0])\r\n",
        "\r\n",
        "    return file_date, number_games[0], match_year[0], board_size[0], match_type[0], depth[0]\r\n",
        "\r\n",
        "def read_wtb_record(wtb):\r\n",
        "    # 大会番号\r\n",
        "    read_data = wtb.read(2)\r\n",
        "    tournament_number = struct.unpack('h', read_data)\r\n",
        "    # 黒番プレーヤー番号\r\n",
        "    read_data = wtb.read(2)\r\n",
        "    black_player_number = struct.unpack('h', read_data)\r\n",
        "    # 白番プレーヤー番号\r\n",
        "    read_data = wtb.read(2)\r\n",
        "    white_player_number = struct.unpack('h', read_data)\r\n",
        "    # 黒番の石数\r\n",
        "    read_data = wtb.read(1)\r\n",
        "    black_count = struct.unpack('b', read_data)\r\n",
        "    # 黒番の石数理論値\r\n",
        "    read_data = wtb.read(1)\r\n",
        "    black_theoretical_value = struct.unpack('b', read_data)\r\n",
        "    # 棋譜\r\n",
        "    read_data = wtb.read(60)\r\n",
        "    game_record = []\r\n",
        "    for move in read_data:\r\n",
        "        if (move != 0):\r\n",
        "            move = str(move)\r\n",
        "            game_record.append([int(move[1]) - 1, int(move[0]) - 1])\r\n",
        "        else:\r\n",
        "            game_record.append([0, 0])\r\n",
        "    return tournament_number[0], black_player_number[0], white_player_number[0], black_count[0], black_theoretical_value[0], game_record"
      ],
      "execution_count": 4,
      "outputs": []
    },
    {
      "cell_type": "code",
      "metadata": {
        "colab": {
          "base_uri": "https://localhost:8080/"
        },
        "id": "wcar-MCZjJzX",
        "outputId": "dae2d972-0f49-4820-d5c8-7a7c729f4fc1"
      },
      "source": [
        "# 棋譜データファイル一覧\r\n",
        "\r\n",
        "import glob\r\n",
        "\r\n",
        "wthor_files = sorted(glob.glob('WTHOR/*.wtb'))\r\n",
        "print(wthor_files)"
      ],
      "execution_count": 5,
      "outputs": [
        {
          "output_type": "stream",
          "text": [
            "['WTHOR/WTH_2006.wtb', 'WTHOR/WTH_2007.wtb', 'WTHOR/WTH_2008.wtb', 'WTHOR/WTH_2009.wtb', 'WTHOR/WTH_2010.wtb', 'WTHOR/WTH_2011.wtb', 'WTHOR/WTH_2012.wtb', 'WTHOR/WTH_2013.wtb', 'WTHOR/WTH_2014.wtb', 'WTHOR/WTH_2015.wtb', 'WTHOR/WTH_2016.wtb', 'WTHOR/WTH_2017.wtb', 'WTHOR/WTH_2018.wtb', 'WTHOR/WTH_2019.wtb', 'WTHOR/WTH_2020.wtb']\n"
          ],
          "name": "stdout"
        }
      ]
    },
    {
      "cell_type": "code",
      "metadata": {
        "colab": {
          "base_uri": "https://localhost:8080/"
        },
        "id": "fMlr_1SJO4C7",
        "outputId": "45ac0813-43c9-4bc0-b1a6-334be2a6a72b"
      },
      "source": [
        "# 棋譜データ解析\r\n",
        "\r\n",
        "game_records = []\r\n",
        "total_number_games = 0\r\n",
        "for index, wthor_file in enumerate(wthor_files):\r\n",
        "    wtb_binary = open(wthor_file, 'rb')\r\n",
        "\r\n",
        "    date, number_games, _, _, _, _ = read_wtb_header(wtb_binary)\r\n",
        "    total_number_games += number_games\r\n",
        "    print(str(index) + \" \" + date + \":\" + str(number_games))\r\n",
        "\r\n",
        "    for i in range(number_games):\r\n",
        "        _, _, _, black_count, _, game_record = read_wtb_record(wtb_binary)\r\n",
        "        game_records.append([black_count, game_record])\r\n",
        "\r\n",
        "    wtb_binary.close()\r\n",
        "print(\"Total:\" + str(total_number_games))"
      ],
      "execution_count": 6,
      "outputs": [
        {
          "output_type": "stream",
          "text": [
            "0 2015/9/30:2942\n",
            "1 2015/9/30:2478\n",
            "2 2015/9/30:2232\n",
            "3 2015/9/30:4348\n",
            "4 2015/9/30:2172\n",
            "5 2015/9/30:1891\n",
            "6 2015/9/30:2208\n",
            "7 2015/9/30:2396\n",
            "8 2015/9/30:1817\n",
            "9 2016/10/29:1926\n",
            "10 2017/7/6:2013\n",
            "11 2018/8/8:2449\n",
            "12 2019/7/27:2429\n",
            "13 2020/4/30:1949\n",
            "14 2020/4/27:268\n",
            "Total:33518\n"
          ],
          "name": "stdout"
        }
      ]
    },
    {
      "cell_type": "code",
      "metadata": {
        "colab": {
          "base_uri": "https://localhost:8080/"
        },
        "id": "lgzmOl_ePtuG",
        "outputId": "129467c4-6074-4bef-832a-2767ea28e3a3"
      },
      "source": [
        "# レコード確認 [ゲーム終了時の黒石数, [棋譜]]\r\n",
        "print(game_records[0])"
      ],
      "execution_count": 7,
      "outputs": [
        {
          "output_type": "stream",
          "text": [
            "[26, [[5, 4], [3, 5], [2, 2], [3, 2], [2, 3], [5, 3], [4, 5], [1, 2], [4, 1], [2, 4], [2, 5], [4, 2], [3, 1], [5, 6], [5, 1], [5, 2], [6, 2], [2, 0], [6, 3], [5, 0], [1, 4], [6, 4], [5, 5], [7, 2], [1, 3], [0, 3], [5, 7], [6, 0], [0, 2], [0, 1], [1, 1], [6, 5], [7, 5], [1, 5], [0, 5], [7, 4], [7, 3], [7, 6], [6, 6], [2, 6], [4, 6], [7, 7], [6, 7], [3, 6], [3, 0], [4, 0], [1, 6], [4, 7], [6, 1], [2, 1], [1, 7], [7, 0], [0, 0], [2, 7], [0, 4], [7, 1], [1, 0], [0, 7], [3, 7], [0, 6]]]\n"
          ],
          "name": "stdout"
        }
      ]
    },
    {
      "cell_type": "markdown",
      "metadata": {
        "id": "NSHRDPCbk23R"
      },
      "source": [
        "# 棋譜→盤面変換用 関数"
      ]
    },
    {
      "cell_type": "code",
      "metadata": {
        "id": "JhsC3Vo1np5R"
      },
      "source": [
        "BLANK = 0\r\n",
        "BLACK = 1\r\n",
        "WHITE = 2\r\n",
        "TEMP = 3"
      ],
      "execution_count": 8,
      "outputs": []
    },
    {
      "cell_type": "code",
      "metadata": {
        "id": "m9NgXkpFnAkV"
      },
      "source": [
        "# デバッグ用描画\r\n",
        "def print_board(board):\r\n",
        "    for row in board:\r\n",
        "        for square in row:\r\n",
        "            if square == BLANK:\r\n",
        "                print('□', end='')\r\n",
        "            if square == BLACK:\r\n",
        "                print('●', end='')\r\n",
        "            if square == WHITE:\r\n",
        "                print('○', end='')\r\n",
        "        print()"
      ],
      "execution_count": 9,
      "outputs": []
    },
    {
      "cell_type": "code",
      "metadata": {
        "id": "u4Inol_PQR9M"
      },
      "source": [
        "# ボード初期化\r\n",
        "def initialize_board():\r\n",
        "    board_width = 8\r\n",
        "    board_height = 8\r\n",
        "    board = [[0 for i in range(board_width)] for j in range(board_height)]\r\n",
        "\r\n",
        "    board[3][3] = WHITE\r\n",
        "    board[3][4] = BLACK\r\n",
        "    board[4][3] = BLACK\r\n",
        "    board[4][4] = WHITE\r\n",
        "\r\n",
        "    return board"
      ],
      "execution_count": 10,
      "outputs": []
    },
    {
      "cell_type": "code",
      "metadata": {
        "id": "V_Xp7N6SqFEc"
      },
      "source": [
        "import copy\r\n",
        "\r\n",
        "# 駒裏返し処理\r\n",
        "def reverse_piece(current_player, board, x, y):\r\n",
        "    direction_list = [[-1, -1], [-1, 0], [-1, 1], [0, 1], [1, 1], [1, 0], [1, -1], [0, -1]]\r\n",
        "\r\n",
        "    for direction in direction_list:\r\n",
        "        reverse_piece_(current_player, board, x, y, direction[0], direction[1])\r\n",
        "\r\n",
        "    return board\r\n",
        "\r\n",
        "def reverse_piece_(current_player, board, x, y, direction_x, direction_y):\r\n",
        "    width = len(board[0])\r\n",
        "    height = len(board)\r\n",
        "\r\n",
        "    reverse_count = 0\r\n",
        "    check_x = x + direction_x\r\n",
        "    check_y = y + direction_y\r\n",
        "\r\n",
        "    while (0 <= check_x < width) and (0 <= check_y < height):\r\n",
        "        if board[check_x][check_y] == current_player:\r\n",
        "            check_x -= direction_x\r\n",
        "            check_y -= direction_y\r\n",
        "\r\n",
        "            while not ((check_x == x) and (check_y == y)):\r\n",
        "                board[check_x][check_y] = current_player\r\n",
        "                check_x -= direction_x\r\n",
        "                check_y -= direction_y\r\n",
        "                reverse_count += 1\r\n",
        "\r\n",
        "            if reverse_count > 0:\r\n",
        "                board[x][y] = current_player;\r\n",
        "            break\r\n",
        "        elif board[check_x][check_y] == BLANK:\r\n",
        "            break\r\n",
        "        check_x += direction_x\r\n",
        "        check_y += direction_y\r\n",
        "\r\n",
        "    return board\r\n",
        "\r\n",
        "# パス判定\r\n",
        "def check_pass(current_player, board):\r\n",
        "    width = len(board[0])\r\n",
        "    height = len(board)\r\n",
        "\r\n",
        "    for y in range(height):\r\n",
        "        for x in range(width):\r\n",
        "            if board[x][y] == BLANK:\r\n",
        "                temp_board = copy.deepcopy(board)\r\n",
        "                temp_board = reverse_piece(current_player, temp_board, x, y)\r\n",
        "                if temp_board[x][y] == current_player:\r\n",
        "                    return False\r\n",
        "    return True\r\n",
        "\r\n",
        "# 駒カウント\r\n",
        "def count_piece(board):\r\n",
        "    width = len(board[0])\r\n",
        "    height = len(board)\r\n",
        "\r\n",
        "    black_count = 0\r\n",
        "    white_count = 0\r\n",
        "\r\n",
        "    for y in range(height):\r\n",
        "        for x in range(width):\r\n",
        "            if board[x][y] == BLACK:\r\n",
        "                black_count += 1\r\n",
        "            if board[x][y] == WHITE:\r\n",
        "                white_count += 1\r\n",
        "    return black_count, white_count"
      ],
      "execution_count": 11,
      "outputs": []
    },
    {
      "cell_type": "code",
      "metadata": {
        "id": "5prSGznIyn62"
      },
      "source": [
        "import copy\r\n",
        "\r\n",
        "# 棋譜再生\r\n",
        "def play(board, record, debug_print=True):\r\n",
        "    width = len(board[0])\r\n",
        "    height = len(board)\r\n",
        "\r\n",
        "    x_data = []\r\n",
        "    y_data = []\r\n",
        "\r\n",
        "    player = BLACK\r\n",
        "\r\n",
        "    for move in record:\r\n",
        "        prev_board = copy.deepcopy(board)\r\n",
        "        board = reverse_piece(player, board, move[0], move[1])\r\n",
        "\r\n",
        "        # 駒が置くことが出来た場合、学習用データに追加しプレイヤーを入れ替える\r\n",
        "        if board[move[0]][move[1]] == player:\r\n",
        "            # 駒を置くプレイヤーを1、敵プレイヤーを2に統一する\r\n",
        "            if player == WHITE:\r\n",
        "                for index, row in enumerate(prev_board):\r\n",
        "                    l_replace = [TEMP if i == BLACK else i for i in row]\r\n",
        "                    l_replace = [BLACK if i == WHITE else i for i in l_replace]\r\n",
        "                    l_replace = [WHITE if i == TEMP else i for i in l_replace]\r\n",
        "                    prev_board[index] = l_replace\r\n",
        "            # 学習データ追加\r\n",
        "            x_data.append(prev_board)\r\n",
        "\r\n",
        "            # 学習データ追加\r\n",
        "            # x_data.append([player, prev_board])\r\n",
        "            y_data_board = [[0 for i in range(width)] for j in range(height)]\r\n",
        "            y_data_board[move[0]][move[1]] = 1\r\n",
        "            y_data.append(y_data_board)\r\n",
        "\r\n",
        "            # プレイヤー入れ替え\r\n",
        "            player = (WHITE if player == BLACK else BLACK)\r\n",
        "\r\n",
        "            if debug_print:\r\n",
        "                print(move)\r\n",
        "                print_board(board)\r\n",
        "\r\n",
        "            if check_pass(player, board):\r\n",
        "                player = (WHITE if player == BLACK else BLACK)\r\n",
        "\r\n",
        "                # 両プレイヤーがパスを行った場合、ゲーム終了\r\n",
        "                if check_pass(player, board):\r\n",
        "                    break\r\n",
        "    return board, x_data, y_data"
      ],
      "execution_count": 12,
      "outputs": []
    },
    {
      "cell_type": "markdown",
      "metadata": {
        "id": "652Ro4BUyhlD"
      },
      "source": [
        "# 棋譜→盤面変換"
      ]
    },
    {
      "cell_type": "code",
      "metadata": {
        "colab": {
          "base_uri": "https://localhost:8080/"
        },
        "id": "pKXLNa0Sya26",
        "outputId": "79a59a64-a14b-4ef4-92bb-2bfa84f31933"
      },
      "source": [
        "# 1つ目：盤面初期化\r\n",
        "board = initialize_board()\r\n",
        "print_board(board)"
      ],
      "execution_count": 13,
      "outputs": [
        {
          "output_type": "stream",
          "text": [
            "□□□□□□□□\n",
            "□□□□□□□□\n",
            "□□□□□□□□\n",
            "□□□○●□□□\n",
            "□□□●○□□□\n",
            "□□□□□□□□\n",
            "□□□□□□□□\n",
            "□□□□□□□□\n"
          ],
          "name": "stdout"
        }
      ]
    },
    {
      "cell_type": "code",
      "metadata": {
        "colab": {
          "base_uri": "https://localhost:8080/"
        },
        "id": "cVFyteyZm9Dg",
        "outputId": "eee6969f-0593-481c-c922-d5e36055385a"
      },
      "source": [
        "# 1つ目：棋譜再生、および学習データ作成\r\n",
        "X_dataset = []\r\n",
        "y_dataset = []\r\n",
        "\r\n",
        "record = game_records[0][1]\r\n",
        "board, x_data, y_data = play(board, record)\r\n",
        "X_dataset.append(x_data)\r\n",
        "y_dataset.append(y_data)\r\n",
        "\r\n",
        "black_count, _ = count_piece(board)\r\n",
        "is_correct = True if game_records[0][0] == black_count else False\r\n",
        "print(is_correct, str(game_records[0][0]), black_count)"
      ],
      "execution_count": 14,
      "outputs": [
        {
          "output_type": "stream",
          "text": [
            "[5, 4]\n",
            "□□□□□□□□\n",
            "□□□□□□□□\n",
            "□□□□□□□□\n",
            "□□□○●□□□\n",
            "□□□●●□□□\n",
            "□□□□●□□□\n",
            "□□□□□□□□\n",
            "□□□□□□□□\n",
            "[3, 5]\n",
            "□□□□□□□□\n",
            "□□□□□□□□\n",
            "□□□□□□□□\n",
            "□□□○○○□□\n",
            "□□□●●□□□\n",
            "□□□□●□□□\n",
            "□□□□□□□□\n",
            "□□□□□□□□\n",
            "[2, 2]\n",
            "□□□□□□□□\n",
            "□□□□□□□□\n",
            "□□●□□□□□\n",
            "□□□●○○□□\n",
            "□□□●●□□□\n",
            "□□□□●□□□\n",
            "□□□□□□□□\n",
            "□□□□□□□□\n",
            "[3, 2]\n",
            "□□□□□□□□\n",
            "□□□□□□□□\n",
            "□□●□□□□□\n",
            "□□○○○○□□\n",
            "□□□●●□□□\n",
            "□□□□●□□□\n",
            "□□□□□□□□\n",
            "□□□□□□□□\n",
            "[2, 3]\n",
            "□□□□□□□□\n",
            "□□□□□□□□\n",
            "□□●●□□□□\n",
            "□□○●○○□□\n",
            "□□□●●□□□\n",
            "□□□□●□□□\n",
            "□□□□□□□□\n",
            "□□□□□□□□\n",
            "[5, 3]\n",
            "□□□□□□□□\n",
            "□□□□□□□□\n",
            "□□●●□□□□\n",
            "□□○●○○□□\n",
            "□□□●○□□□\n",
            "□□□○●□□□\n",
            "□□□□□□□□\n",
            "□□□□□□□□\n",
            "[4, 5]\n",
            "□□□□□□□□\n",
            "□□□□□□□□\n",
            "□□●●□□□□\n",
            "□□○●●○□□\n",
            "□□□●●●□□\n",
            "□□□○●□□□\n",
            "□□□□□□□□\n",
            "□□□□□□□□\n",
            "[1, 2]\n",
            "□□□□□□□□\n",
            "□□○□□□□□\n",
            "□□○●□□□□\n",
            "□□○●●○□□\n",
            "□□□●●●□□\n",
            "□□□○●□□□\n",
            "□□□□□□□□\n",
            "□□□□□□□□\n",
            "[4, 1]\n",
            "□□□□□□□□\n",
            "□□○□□□□□\n",
            "□□○●□□□□\n",
            "□□●●●○□□\n",
            "□●□●●●□□\n",
            "□□□○●□□□\n",
            "□□□□□□□□\n",
            "□□□□□□□□\n",
            "[2, 4]\n",
            "□□□□□□□□\n",
            "□□○□□□□□\n",
            "□□○○○□□□\n",
            "□□●●●○□□\n",
            "□●□●●●□□\n",
            "□□□○●□□□\n",
            "□□□□□□□□\n",
            "□□□□□□□□\n",
            "[2, 5]\n",
            "□□□□□□□□\n",
            "□□○□□□□□\n",
            "□□○○○●□□\n",
            "□□●●●●□□\n",
            "□●□●●●□□\n",
            "□□□○●□□□\n",
            "□□□□□□□□\n",
            "□□□□□□□□\n",
            "[4, 2]\n",
            "□□□□□□□□\n",
            "□□○□□□□□\n",
            "□□○○○●□□\n",
            "□□○○●●□□\n",
            "□●○●●●□□\n",
            "□□□○●□□□\n",
            "□□□□□□□□\n",
            "□□□□□□□□\n",
            "[3, 1]\n",
            "□□□□□□□□\n",
            "□□○□□□□□\n",
            "□□○○○●□□\n",
            "□●●●●●□□\n",
            "□●○●●●□□\n",
            "□□□○●□□□\n",
            "□□□□□□□□\n",
            "□□□□□□□□\n",
            "[5, 6]\n",
            "□□□□□□□□\n",
            "□□○□□□□□\n",
            "□□○○○●□□\n",
            "□●●●○●□□\n",
            "□●○●●○□□\n",
            "□□□○●□○□\n",
            "□□□□□□□□\n",
            "□□□□□□□□\n",
            "[5, 1]\n",
            "□□□□□□□□\n",
            "□□○□□□□□\n",
            "□□○○○●□□\n",
            "□●●●○●□□\n",
            "□●●●●○□□\n",
            "□●□○●□○□\n",
            "□□□□□□□□\n",
            "□□□□□□□□\n",
            "[5, 2]\n",
            "□□□□□□□□\n",
            "□□○□□□□□\n",
            "□□○○○●□□\n",
            "□●○●○●□□\n",
            "□●○○●○□□\n",
            "□●○○●□○□\n",
            "□□□□□□□□\n",
            "□□□□□□□□\n",
            "[6, 2]\n",
            "□□□□□□□□\n",
            "□□○□□□□□\n",
            "□□○○○●□□\n",
            "□●○●○●□□\n",
            "□●○○●○□□\n",
            "□●○●●□○□\n",
            "□□●□□□□□\n",
            "□□□□□□□□\n",
            "[2, 0]\n",
            "□□□□□□□□\n",
            "□□○□□□□□\n",
            "○□○○○●□□\n",
            "□○○●○●□□\n",
            "□●○○●○□□\n",
            "□●○●●□○□\n",
            "□□●□□□□□\n",
            "□□□□□□□□\n",
            "[6, 3]\n",
            "□□□□□□□□\n",
            "□□○□□□□□\n",
            "○□○○○●□□\n",
            "□○○●○●□□\n",
            "□●○○●○□□\n",
            "□●●●●□○□\n",
            "□□●●□□□□\n",
            "□□□□□□□□\n",
            "[5, 0]\n",
            "□□□□□□□□\n",
            "□□○□□□□□\n",
            "○□○○○●□□\n",
            "□○○●○●□□\n",
            "□○○○●○□□\n",
            "○●●●●□○□\n",
            "□□●●□□□□\n",
            "□□□□□□□□\n",
            "[1, 4]\n",
            "□□□□□□□□\n",
            "□□○□●□□□\n",
            "○□○○●●□□\n",
            "□○○●●●□□\n",
            "□○○○●○□□\n",
            "○●●●●□○□\n",
            "□□●●□□□□\n",
            "□□□□□□□□\n",
            "[6, 4]\n",
            "□□□□□□□□\n",
            "□□○□●□□□\n",
            "○□○○●●□□\n",
            "□○○●●●□□\n",
            "□○○○●○□□\n",
            "○●●○●□○□\n",
            "□□●●○□□□\n",
            "□□□□□□□□\n",
            "[5, 5]\n",
            "□□□□□□□□\n",
            "□□○□●□□□\n",
            "○□○○●●□□\n",
            "□○○●●●□□\n",
            "□○○○●●□□\n",
            "○●●○●●○□\n",
            "□□●●○□□□\n",
            "□□□□□□□□\n",
            "[7, 2]\n",
            "□□□□□□□□\n",
            "□□○□●□□□\n",
            "○□○○●●□□\n",
            "□○○●●●□□\n",
            "□○○○●●□□\n",
            "○●○○●●○□\n",
            "□□○●○□□□\n",
            "□□○□□□□□\n",
            "[1, 3]\n",
            "□□□□□□□□\n",
            "□□○●●□□□\n",
            "○□○●●●□□\n",
            "□○○●●●□□\n",
            "□○○○●●□□\n",
            "○●○○●●○□\n",
            "□□○●○□□□\n",
            "□□○□□□□□\n",
            "[0, 3]\n",
            "□□□○□□□□\n",
            "□□○○●□□□\n",
            "○□○○●●□□\n",
            "□○○○●●□□\n",
            "□○○○●●□□\n",
            "○●○○●●○□\n",
            "□□○●○□□□\n",
            "□□○□□□□□\n",
            "[5, 7]\n",
            "□□□○□□□□\n",
            "□□○○●□□□\n",
            "○□○○●●□□\n",
            "□○○○●●□□\n",
            "□○○○●●□□\n",
            "○●○○●●●●\n",
            "□□○●○□□□\n",
            "□□○□□□□□\n",
            "[6, 0]\n",
            "□□□○□□□□\n",
            "□□○○●□□□\n",
            "○□○○●●□□\n",
            "□○○○●●□□\n",
            "□○○○●●□□\n",
            "○○○○●●●●\n",
            "○□○●○□□□\n",
            "□□○□□□□□\n",
            "[0, 2]\n",
            "□□●○□□□□\n",
            "□□○●●□□□\n",
            "○□○○●●□□\n",
            "□○○○●●□□\n",
            "□○○○●●□□\n",
            "○○○○●●●●\n",
            "○□○●○□□□\n",
            "□□○□□□□□\n",
            "[0, 1]\n",
            "□○○○□□□□\n",
            "□□○●●□□□\n",
            "○□○○●●□□\n",
            "□○○○●●□□\n",
            "□○○○●●□□\n",
            "○○○○●●●●\n",
            "○□○●○□□□\n",
            "□□○□□□□□\n",
            "[1, 1]\n",
            "□○○○□□□□\n",
            "□●●●●□□□\n",
            "○□●○●●□□\n",
            "□○○●●●□□\n",
            "□○○○●●□□\n",
            "○○○○●●●●\n",
            "○□○●○□□□\n",
            "□□○□□□□□\n",
            "[6, 5]\n",
            "□○○○□□□□\n",
            "□●●●●□□□\n",
            "○□●○●●□□\n",
            "□○○●●●□□\n",
            "□○○○●●□□\n",
            "○○○○○●●●\n",
            "○□○●○○□□\n",
            "□□○□□□□□\n",
            "[7, 5]\n",
            "□○○○□□□□\n",
            "□●●●●□□□\n",
            "○□●○●●□□\n",
            "□○○●●●□□\n",
            "□○○○●●□□\n",
            "○○○○○●●●\n",
            "○□○●○●□□\n",
            "□□○□□●□□\n",
            "[1, 5]\n",
            "□○○○□□□□\n",
            "□●●●●○□□\n",
            "○□●○○●□□\n",
            "□○○○●●□□\n",
            "□○○○●●□□\n",
            "○○○○○●●●\n",
            "○□○●○●□□\n",
            "□□○□□●□□\n",
            "[0, 5]\n",
            "□○○○□●□□\n",
            "□●●●●●□□\n",
            "○□●○○●□□\n",
            "□○○○●●□□\n",
            "□○○○●●□□\n",
            "○○○○○●●●\n",
            "○□○●○●□□\n",
            "□□○□□●□□\n",
            "[7, 4]\n",
            "□○○○□●□□\n",
            "□●●●●●□□\n",
            "○□●○○●□□\n",
            "□○○○●●□□\n",
            "□○○○●●□□\n",
            "○○○○○●●●\n",
            "○□○○○●□□\n",
            "□□○□○●□□\n",
            "[7, 3]\n",
            "□○○○□●□□\n",
            "□●●●●●□□\n",
            "○□●●○●□□\n",
            "□○○●●●□□\n",
            "□○○●●●□□\n",
            "○○○●○●●●\n",
            "○□○●●●□□\n",
            "□□○●●●□□\n",
            "[7, 6]\n",
            "□○○○□●□□\n",
            "□●●●●●□□\n",
            "○□●●○●□□\n",
            "□○○●●●□□\n",
            "□○○●●●□□\n",
            "○○○●○●●●\n",
            "○□○●●○□□\n",
            "□□○○○○○□\n",
            "[6, 6]\n",
            "□○○○□●□□\n",
            "□●●●●●□□\n",
            "○□●●○●□□\n",
            "□○○●●●□□\n",
            "□○○●●●□□\n",
            "○○○●○●●●\n",
            "○□○●●●●□\n",
            "□□○○○○○□\n",
            "[2, 6]\n",
            "□○○○□●□□\n",
            "□●●●●●□□\n",
            "○□●●○○○□\n",
            "□○○●●○□□\n",
            "□○○●○●□□\n",
            "○○○○○●●●\n",
            "○□○●●●●□\n",
            "□□○○○○○□\n",
            "[4, 6]\n",
            "□○○○□●□□\n",
            "□●●●●●□□\n",
            "○□●●●○○□\n",
            "□○○●●●□□\n",
            "□○○●○●●□\n",
            "○○○○○●●●\n",
            "○□○●●●●□\n",
            "□□○○○○○□\n",
            "[7, 7]\n",
            "□○○○□●□□\n",
            "□●●●●●□□\n",
            "○□●●●○○□\n",
            "□○○●●●□□\n",
            "□○○●○●●□\n",
            "○○○○○○●●\n",
            "○□○●●●○□\n",
            "□□○○○○○○\n",
            "[6, 7]\n",
            "□○○○□●□□\n",
            "□●●●●●□□\n",
            "○□●●●○○□\n",
            "□○○●●●□□\n",
            "□○○●○●●□\n",
            "○○○○○○●●\n",
            "○□○●●●●●\n",
            "□□○○○○○○\n",
            "[3, 6]\n",
            "□○○○□●□□\n",
            "□●●●●●□□\n",
            "○□●●●○○□\n",
            "□○○○○○○□\n",
            "□○○●○○○□\n",
            "○○○○○○○●\n",
            "○□○●●●○●\n",
            "□□○○○○○○\n",
            "[3, 0]\n",
            "□○○○□●□□\n",
            "□●●●●●□□\n",
            "○□●●●○○□\n",
            "●○○○○○○□\n",
            "□●○●○○○□\n",
            "○○●○○○○●\n",
            "○□○●●●○●\n",
            "□□○○○○○○\n",
            "[4, 0]\n",
            "□○○○□●□□\n",
            "□●●●●●□□\n",
            "○□●●●○○□\n",
            "○○○○○○○□\n",
            "○○○●○○○□\n",
            "○○●○○○○●\n",
            "○□○●●●○●\n",
            "□□○○○○○○\n",
            "[1, 6]\n",
            "□○○○□●□□\n",
            "□●●●●●●□\n",
            "○□●●●●○□\n",
            "○○○○●○○□\n",
            "○○○●○○○□\n",
            "○○●○○○○●\n",
            "○□○●●●○●\n",
            "□□○○○○○○\n",
            "[4, 7]\n",
            "□○○○□●□□\n",
            "□●●●●●●□\n",
            "○□●●●●○□\n",
            "○○○○●○○□\n",
            "○○○●○○○○\n",
            "○○●○○○○○\n",
            "○□○●●●○○\n",
            "□□○○○○○○\n",
            "[6, 1]\n",
            "□○○○□●□□\n",
            "□●●●●●●□\n",
            "○□●●●●○□\n",
            "○○○○●○○□\n",
            "○○○●○○○○\n",
            "○○●○○○○○\n",
            "○●●●●●○○\n",
            "□□○○○○○○\n",
            "[2, 1]\n",
            "□○○○□●□□\n",
            "□○○●●●●□\n",
            "○○○○○○○□\n",
            "○○○○●○○□\n",
            "○○○●○○○○\n",
            "○○●○○○○○\n",
            "○●●●●●○○\n",
            "□□○○○○○○\n",
            "[1, 7]\n",
            "□○○○□●□□\n",
            "□○○●●●●●\n",
            "○○○○○○●□\n",
            "○○○○●●○□\n",
            "○○○●●○○○\n",
            "○○●●○○○○\n",
            "○●●●●●○○\n",
            "□□○○○○○○\n",
            "[7, 0]\n",
            "□○○○□●□□\n",
            "□○○●●●●●\n",
            "○○○○○○●□\n",
            "○○○○○●○□\n",
            "○○○○●○○○\n",
            "○○○●○○○○\n",
            "○○●●●●○○\n",
            "○□○○○○○○\n",
            "[0, 0]\n",
            "●○○○□●□□\n",
            "□●○●●●●●\n",
            "○○●○○○●□\n",
            "○○○●○●○□\n",
            "○○○○●○○○\n",
            "○○○●○○○○\n",
            "○○●●●●○○\n",
            "○□○○○○○○\n",
            "[2, 7]\n",
            "●○○○□●□□\n",
            "□●○●●●●●\n",
            "○○●○○○○○\n",
            "○○○●○●○□\n",
            "○○○○●○○○\n",
            "○○○●○○○○\n",
            "○○●●●●○○\n",
            "○□○○○○○○\n",
            "[0, 4]\n",
            "●●●●●●□□\n",
            "□●○●●●●●\n",
            "○○●○○○○○\n",
            "○○○●○●○□\n",
            "○○○○●○○○\n",
            "○○○●○○○○\n",
            "○○●●●●○○\n",
            "○□○○○○○○\n",
            "[7, 1]\n",
            "●●●●●●□□\n",
            "□●○●●●●●\n",
            "○○●○○○○○\n",
            "○○○●○○○□\n",
            "○○○○○○○○\n",
            "○○○○○○○○\n",
            "○○○●●●○○\n",
            "○○○○○○○○\n",
            "[1, 0]\n",
            "●●●●●●□□\n",
            "●●○●●●●●\n",
            "○●●○○○○○\n",
            "○○●●○○○□\n",
            "○○○●○○○○\n",
            "○○○○●○○○\n",
            "○○○●●●○○\n",
            "○○○○○○○○\n",
            "[0, 7]\n",
            "●●●●●●□○\n",
            "●●○●●●○○\n",
            "○●●○○○○○\n",
            "○○●●○○○□\n",
            "○○○●○○○○\n",
            "○○○○●○○○\n",
            "○○○●●●○○\n",
            "○○○○○○○○\n",
            "[3, 7]\n",
            "●●●●●●□○\n",
            "●●○●●●○○\n",
            "○●●○○○●○\n",
            "○○●●●●●●\n",
            "○○○●○○●○\n",
            "○○○○●●○○\n",
            "○○○●●●○○\n",
            "○○○○○○○○\n",
            "[0, 6]\n",
            "●●●●●●○○\n",
            "●●○●●○○○\n",
            "○●●○○○●○\n",
            "○○●●●●●●\n",
            "○○○●○○●○\n",
            "○○○○●●○○\n",
            "○○○●●●○○\n",
            "○○○○○○○○\n",
            "True 26 26\n"
          ],
          "name": "stdout"
        }
      ]
    },
    {
      "cell_type": "code",
      "metadata": {
        "colab": {
          "base_uri": "https://localhost:8080/"
        },
        "id": "NMz8c_O6BTxX",
        "outputId": "595a8724-d770-4017-f7d6-e5140b282fc9"
      },
      "source": [
        "# 2つ目以降の棋譜の変換\r\n",
        "\r\n",
        "from tqdm import tqdm\r\n",
        "\r\n",
        "for record in tqdm(game_records[1:]):\r\n",
        "    board = initialize_board()\r\n",
        "    board, x_data, y_data = play(board, record[1], False)\r\n",
        "    X_dataset.append(x_data)\r\n",
        "    y_dataset.append(y_data)"
      ],
      "execution_count": 15,
      "outputs": [
        {
          "output_type": "stream",
          "text": [
            "100%|██████████| 33517/33517 [18:44<00:00, 29.80it/s]\n"
          ],
          "name": "stderr"
        }
      ]
    },
    {
      "cell_type": "code",
      "metadata": {
        "id": "b0LkdF6nKa4y",
        "colab": {
          "base_uri": "https://localhost:8080/"
        },
        "outputId": "555efb6a-dfaf-4f96-c8b7-028aae8df519"
      },
      "source": [
        "import numpy as np\r\n",
        "\r\n",
        "# npyで保存\r\n",
        "np.save('X_dataset_', X_dataset)\r\n",
        "np.save('y_dataset_', y_dataset)"
      ],
      "execution_count": 16,
      "outputs": [
        {
          "output_type": "stream",
          "text": [
            "/usr/local/lib/python3.7/dist-packages/numpy/core/_asarray.py:136: VisibleDeprecationWarning: Creating an ndarray from ragged nested sequences (which is a list-or-tuple of lists-or-tuples-or ndarrays with different lengths or shapes) is deprecated. If you meant to do this, you must specify 'dtype=object' when creating the ndarray\n",
            "  return array(a, dtype, copy=False, order=order, subok=True)\n"
          ],
          "name": "stderr"
        }
      ]
    },
    {
      "cell_type": "code",
      "metadata": {
        "colab": {
          "base_uri": "https://localhost:8080/"
        },
        "id": "huIecXLnz4_W",
        "outputId": "6426ebbc-203e-48b9-c75a-7f7fde752eec"
      },
      "source": [
        "import gc\r\n",
        "del game_records\r\n",
        "gc.collect()"
      ],
      "execution_count": 17,
      "outputs": [
        {
          "output_type": "execute_result",
          "data": {
            "text/plain": [
              "103"
            ]
          },
          "metadata": {
            "tags": []
          },
          "execution_count": 17
        }
      ]
    },
    {
      "cell_type": "markdown",
      "metadata": {
        "id": "ws7dNyV5MOud"
      },
      "source": [
        "# 学習用データに成形"
      ]
    },
    {
      "cell_type": "code",
      "metadata": {
        "id": "4P7FejXCMBtr"
      },
      "source": [
        "import collections\r\n",
        "\r\n",
        "def flatten(l):\r\n",
        "    for el in l:\r\n",
        "        if isinstance(el, collections.abc.Iterable) and not isinstance(el, (str, bytes)):\r\n",
        "            yield from flatten(el)\r\n",
        "        else:\r\n",
        "            yield el"
      ],
      "execution_count": 18,
      "outputs": []
    },
    {
      "cell_type": "code",
      "metadata": {
        "id": "szHb8FzMHwz8",
        "colab": {
          "base_uri": "https://localhost:8080/"
        },
        "outputId": "19d19d97-13b6-4fef-c609-523da70b8f0c"
      },
      "source": [
        "# 多次元配列を1次元化\r\n",
        "x_temp_list = []\r\n",
        "\r\n",
        "for x_data in tqdm(X_dataset):\r\n",
        "    for x_temp in x_data:\r\n",
        "        x_temp_list.append(list(flatten(x_temp)))\r\n",
        "\r\n",
        "X_dataset = np.array(x_temp_list)\r\n",
        "\r\n",
        "del x_temp_list\r\n",
        "gc.collect()"
      ],
      "execution_count": 19,
      "outputs": [
        {
          "output_type": "stream",
          "text": [
            "100%|██████████| 33518/33518 [01:40<00:00, 331.94it/s]\n"
          ],
          "name": "stderr"
        },
        {
          "output_type": "execute_result",
          "data": {
            "text/plain": [
              "0"
            ]
          },
          "metadata": {
            "tags": []
          },
          "execution_count": 19
        }
      ]
    },
    {
      "cell_type": "code",
      "metadata": {
        "colab": {
          "base_uri": "https://localhost:8080/"
        },
        "id": "TR3e8zjp1Gkl",
        "outputId": "a4aea446-afd0-477d-a0b6-885c371a906f"
      },
      "source": [
        "# 多次元配列を1次元化  \r\n",
        "y_temp_list = []\r\n",
        "for y_data in tqdm(y_dataset):\r\n",
        "    for y_temp in y_data:\r\n",
        "        y_temp_list.append(list(flatten(y_temp)))\r\n",
        "        \r\n",
        "y_dataset = np.array(y_temp_list)\r\n",
        "\r\n",
        "del y_temp_list\r\n",
        "gc.collect()"
      ],
      "execution_count": 20,
      "outputs": [
        {
          "output_type": "stream",
          "text": [
            "100%|██████████| 33518/33518 [01:46<00:00, 314.54it/s]\n"
          ],
          "name": "stderr"
        },
        {
          "output_type": "execute_result",
          "data": {
            "text/plain": [
              "0"
            ]
          },
          "metadata": {
            "tags": []
          },
          "execution_count": 20
        }
      ]
    },
    {
      "cell_type": "code",
      "metadata": {
        "id": "Ximm-ZMhOVd2",
        "colab": {
          "base_uri": "https://localhost:8080/"
        },
        "outputId": "046ed98c-601f-4b5e-a510-120aab74ba88"
      },
      "source": [
        "print(len(X_dataset))"
      ],
      "execution_count": 21,
      "outputs": [
        {
          "output_type": "stream",
          "text": [
            "2005741\n"
          ],
          "name": "stdout"
        }
      ]
    },
    {
      "cell_type": "code",
      "metadata": {
        "id": "S9uARpBxBzHE"
      },
      "source": [
        "# npyで保存\r\n",
        "np.save('X_dataset', X_dataset)\r\n",
        "np.save('y_dataset', y_dataset)"
      ],
      "execution_count": 22,
      "outputs": []
    },
    {
      "cell_type": "markdown",
      "metadata": {
        "id": "hFuajsXUQCxw"
      },
      "source": [
        "# Googleドライブに保存"
      ]
    },
    {
      "cell_type": "code",
      "metadata": {
        "id": "41LR4xUDQDIB",
        "colab": {
          "base_uri": "https://localhost:8080/"
        },
        "outputId": "942bba96-5763-4c4d-c6cb-1b0cd64293d3"
      },
      "source": [
        "from google.colab import drive\r\n",
        "drive.mount('./gdrive')"
      ],
      "execution_count": 23,
      "outputs": [
        {
          "output_type": "stream",
          "text": [
            "Mounted at ./gdrive\n"
          ],
          "name": "stdout"
        }
      ]
    },
    {
      "cell_type": "code",
      "metadata": {
        "id": "fL89VH_5QWHK"
      },
      "source": [
        "!mkdir '/content/gdrive/MyDrive/ReversiTrainData'"
      ],
      "execution_count": 24,
      "outputs": []
    },
    {
      "cell_type": "code",
      "metadata": {
        "id": "PWik0XRPQljD"
      },
      "source": [
        "!cp 'X_dataset.npy' '/content/gdrive/MyDrive/ReversiTrainData'\r\n",
        "!cp 'y_dataset.npy' '/content/gdrive/MyDrive/ReversiTrainData'"
      ],
      "execution_count": 25,
      "outputs": []
    }
  ]
}