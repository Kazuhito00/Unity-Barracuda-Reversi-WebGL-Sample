{
  "nbformat": 4,
  "nbformat_minor": 0,
  "metadata": {
    "colab": {
      "name": "02_ReversiAI_DataAugmentation.ipynb",
      "provenance": [],
      "collapsed_sections": [],
      "toc_visible": true
    },
    "kernelspec": {
      "name": "python3",
      "display_name": "Python 3"
    }
  },
  "cells": [
    {
      "cell_type": "markdown",
      "metadata": {
        "id": "AvKxJcNnvwX0"
      },
      "source": [
        "# Googleドライブから学習データをロード"
      ]
    },
    {
      "cell_type": "code",
      "metadata": {
        "id": "G708Lb4G7D1D",
        "colab": {
          "base_uri": "https://localhost:8080/"
        },
        "outputId": "6aa8d670-5f10-48ef-c37e-f3cf8bb29dcc"
      },
      "source": [
        "from google.colab import drive\r\n",
        "drive.mount('./gdrive')"
      ],
      "execution_count": 1,
      "outputs": [
        {
          "output_type": "stream",
          "text": [
            "Mounted at ./gdrive\n"
          ],
          "name": "stdout"
        }
      ]
    },
    {
      "cell_type": "code",
      "metadata": {
        "id": "2IVyZGsG7E1d"
      },
      "source": [
        "!cp '/content/gdrive/MyDrive/ReversiTrainData/X_dataset.npy' ./\r\n",
        "!cp '/content/gdrive/MyDrive/ReversiTrainData/y_dataset.npy' ./"
      ],
      "execution_count": 2,
      "outputs": []
    },
    {
      "cell_type": "code",
      "metadata": {
        "id": "dVYwgqjctKbp",
        "colab": {
          "base_uri": "https://localhost:8080/"
        },
        "outputId": "302b0104-e6bd-4608-b8ea-70728cbf9c2e"
      },
      "source": [
        "import numpy as np\r\n",
        "X_dataset = np.load('X_dataset.npy')\r\n",
        "y_dataset = np.load('y_dataset.npy')\r\n",
        "print(len(X_dataset))"
      ],
      "execution_count": 3,
      "outputs": [
        {
          "output_type": "stream",
          "text": [
            "2005741\n"
          ],
          "name": "stdout"
        }
      ]
    },
    {
      "cell_type": "markdown",
      "metadata": {
        "id": "62a-zMREPmxb"
      },
      "source": [
        "# 盤面を180度回転"
      ]
    },
    {
      "cell_type": "code",
      "metadata": {
        "id": "ZdcgFekqRZ4l"
      },
      "source": [
        "X_temp_dataset = X_dataset.reshape([len(X_dataset), 8, 8])\r\n",
        "y_temp_dataset = y_dataset.reshape([len(y_dataset), 8, 8])\r\n",
        "X_temp_dataset = np.rot90(X_temp_dataset, 2, axes=(1, 2))\r\n",
        "y_temp_dataset = np.rot90(y_temp_dataset, 2, axes=(1, 2))\r\n",
        "X_temp_dataset = X_temp_dataset.reshape([len(X_dataset), 64])\r\n",
        "y_temp_dataset = y_temp_dataset.reshape([len(y_dataset), 64])"
      ],
      "execution_count": 25,
      "outputs": []
    },
    {
      "cell_type": "code",
      "metadata": {
        "colab": {
          "base_uri": "https://localhost:8080/"
        },
        "id": "desjafptRvhe",
        "outputId": "e798dd5b-e78c-4d65-b304-bafc93042013"
      },
      "source": [
        "print(X_dataset[0])\r\n",
        "print(X_dataset[0].reshape([8, 8]))\r\n",
        "print(X_temp_dataset[0])\r\n",
        "print(X_temp_dataset[0].reshape([8, 8]))\r\n",
        "\r\n",
        "print(y_dataset[0])\r\n",
        "print(y_dataset[0].reshape([8, 8]))\r\n",
        "print(y_temp_dataset[0])\r\n",
        "print(y_temp_dataset[0].reshape([8, 8]))"
      ],
      "execution_count": 27,
      "outputs": [
        {
          "output_type": "stream",
          "text": [
            "[0 0 0 0 0 0 0 0 0 0 0 0 0 0 0 0 0 0 0 0 0 0 0 0 0 0 0 2 1 0 0 0 0 0 0 1 2\n",
            " 0 0 0 0 0 0 0 0 0 0 0 0 0 0 0 0 0 0 0 0 0 0 0 0 0 0 0]\n",
            "[[0 0 0 0 0 0 0 0]\n",
            " [0 0 0 0 0 0 0 0]\n",
            " [0 0 0 0 0 0 0 0]\n",
            " [0 0 0 2 1 0 0 0]\n",
            " [0 0 0 1 2 0 0 0]\n",
            " [0 0 0 0 0 0 0 0]\n",
            " [0 0 0 0 0 0 0 0]\n",
            " [0 0 0 0 0 0 0 0]]\n",
            "[0 0 0 0 0 0 0 0 0 0 0 0 0 0 0 0 0 0 0 0 0 0 0 0 0 0 0 2 1 0 0 0 0 0 0 1 2\n",
            " 0 0 0 0 0 0 0 0 0 0 0 0 0 0 0 0 0 0 0 0 0 0 0 0 0 0 0]\n",
            "[[0 0 0 0 0 0 0 0]\n",
            " [0 0 0 0 0 0 0 0]\n",
            " [0 0 0 0 0 0 0 0]\n",
            " [0 0 0 2 1 0 0 0]\n",
            " [0 0 0 1 2 0 0 0]\n",
            " [0 0 0 0 0 0 0 0]\n",
            " [0 0 0 0 0 0 0 0]\n",
            " [0 0 0 0 0 0 0 0]]\n",
            "[0 0 0 0 0 0 0 0 0 0 0 0 0 0 0 0 0 0 0 0 0 0 0 0 0 0 0 0 0 0 0 0 0 0 0 0 0\n",
            " 0 0 0 0 0 0 0 1 0 0 0 0 0 0 0 0 0 0 0 0 0 0 0 0 0 0 0]\n",
            "[[0 0 0 0 0 0 0 0]\n",
            " [0 0 0 0 0 0 0 0]\n",
            " [0 0 0 0 0 0 0 0]\n",
            " [0 0 0 0 0 0 0 0]\n",
            " [0 0 0 0 0 0 0 0]\n",
            " [0 0 0 0 1 0 0 0]\n",
            " [0 0 0 0 0 0 0 0]\n",
            " [0 0 0 0 0 0 0 0]]\n",
            "[0 0 0 0 0 0 0 0 0 0 0 0 0 0 0 0 0 0 0 1 0 0 0 0 0 0 0 0 0 0 0 0 0 0 0 0 0\n",
            " 0 0 0 0 0 0 0 0 0 0 0 0 0 0 0 0 0 0 0 0 0 0 0 0 0 0 0]\n",
            "[[0 0 0 0 0 0 0 0]\n",
            " [0 0 0 0 0 0 0 0]\n",
            " [0 0 0 1 0 0 0 0]\n",
            " [0 0 0 0 0 0 0 0]\n",
            " [0 0 0 0 0 0 0 0]\n",
            " [0 0 0 0 0 0 0 0]\n",
            " [0 0 0 0 0 0 0 0]\n",
            " [0 0 0 0 0 0 0 0]]\n"
          ],
          "name": "stdout"
        }
      ]
    },
    {
      "cell_type": "code",
      "metadata": {
        "id": "eb0qCGEATv6L"
      },
      "source": [
        "X_dataset = np.vstack([X_dataset, X_temp_dataset])\r\n",
        "y_dataset = np.vstack([y_dataset, y_temp_dataset])"
      ],
      "execution_count": 29,
      "outputs": []
    },
    {
      "cell_type": "code",
      "metadata": {
        "id": "rtRu_qi8Lwap",
        "colab": {
          "base_uri": "https://localhost:8080/"
        },
        "outputId": "a45646f3-f28e-4c5c-a1da-7c4331dbdeca"
      },
      "source": [
        "print(len(X_dataset))"
      ],
      "execution_count": 30,
      "outputs": [
        {
          "output_type": "stream",
          "text": [
            "4011482\n"
          ],
          "name": "stdout"
        }
      ]
    },
    {
      "cell_type": "markdown",
      "metadata": {
        "id": "0tksh7boUcDB"
      },
      "source": [
        "# 保存"
      ]
    },
    {
      "cell_type": "code",
      "metadata": {
        "id": "ynVDFiQIUGcP"
      },
      "source": [
        "# npyで保存\r\n",
        "np.save('X_dataset2', X_dataset)\r\n",
        "np.save('y_dataset2', y_dataset)"
      ],
      "execution_count": 32,
      "outputs": []
    },
    {
      "cell_type": "code",
      "metadata": {
        "id": "F1A9yeaJUpn6"
      },
      "source": [
        "!cp 'X_dataset2.npy' '/content/gdrive/MyDrive/ReversiTrainData'\r\n",
        "!cp 'y_dataset2.npy' '/content/gdrive/MyDrive/ReversiTrainData'"
      ],
      "execution_count": 33,
      "outputs": []
    }
  ]
}